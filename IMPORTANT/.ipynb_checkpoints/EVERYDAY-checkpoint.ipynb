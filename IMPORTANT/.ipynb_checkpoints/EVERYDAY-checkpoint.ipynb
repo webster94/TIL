{
 "cells": [
  {
   "cell_type": "code",
   "execution_count": 1,
   "metadata": {},
   "outputs": [
    {
     "ename": "SyntaxError",
     "evalue": "invalid syntax (<ipython-input-1-49963107ec29>, line 75)",
     "output_type": "error",
     "traceback": [
      "\u001b[1;36m  File \u001b[1;32m\"<ipython-input-1-49963107ec29>\"\u001b[1;36m, line \u001b[1;32m75\u001b[0m\n\u001b[1;33m    def dict_list_sum(li):\u001b[0m\n\u001b[1;37m      ^\u001b[0m\n\u001b[1;31mSyntaxError\u001b[0m\u001b[1;31m:\u001b[0m invalid syntax\n"
     ]
    }
   ],
   "source": [
    "무엇을 하는 코딩들일까?\n",
    "\n",
    "number = int(input()) ## number 에는 정수형 인풋을 기입받는다.\n",
    "\n",
    "# 아래에 코드를 작성하시오.\n",
    "# 1번은 홀수는 2를 곱하고 짝수는 3을 곱한 숫자들을 합한 합을 나타내는 코딩\n",
    "total = 0  # 토탈을 0으로 초기화 시켜놓고 시작한다.\n",
    "for i in range(1,number+1): # 1부터 number까지 숫자를 반복을 돌린다\n",
    "    if i % 2 == 1:   # 2로 나누었을 때 나머지가 1이되는 i 라면 == 홀수라면 토탈에 2를 곱한 수를 더한다\n",
    "        total = total + i*2\n",
    "    else:\n",
    "        total += i*3  # 아니라면 (짝수라면 ) i *3숫자를 곱한다\n",
    "print(total)  # 반복을 끝낸 후 토탈을 출력한다!\n",
    " # 1번은 홀수는 2를 곱하고 짝수는 3을 곱한 숫자들을 합한 합을 나타내는 코딩이다.\n",
    "#2 소수 구별 소수는 y, 아니면 n\n",
    "number = int(input())\n",
    "\n",
    "# 아래에 코드를 작성하시오.\n",
    "is_prime = 'Y'  # is_prime에는 'Y '를 저장\n",
    "for i in range(2,number):  # 2~number-1 까지 반복을 돌린다\n",
    "    if number % i ==0:     # 만약 number가 2~ number -1 의 숫자로 나눠지는 숫자가 있다면 \n",
    "        is_prime = 'N'     # is_prime운 no로 출력한다! \n",
    "        break              # 1번이라도 나눠지는 숫자가 있다면 반복을 그만 둬라!\n",
    "print(is_prime)            # input의 결과가 무엇인지 보여달라!\n",
    "\n",
    "#3  소수 구별 2번째\n",
    "number = int(input())      #number는 자연수를 기입받는다\n",
    "\n",
    "# 아래에 코드를 작성하시오.\n",
    "for i in range(2,number):  # 2~ number -1 의 숫자로 반복을 한다        \n",
    "    if number % i ==0:     # number가 i 로 나눠진다면! (%i = 0 >> 나머지가 0 , 나눠떨어진다는 이야기)\n",
    "        print('N')          # N을 표시\n",
    "        break              # 그만 하고 나와도 된다\n",
    "else:\n",
    "        print('Y')         # 아니라면 Y!\n",
    "\n",
    "\n",
    "#4 numbers = [26, 39, 51, 53, 57, 79, 85]  소수 인지 아닌지 출력하는 함수\n",
    "numbers = [26, 39, 51, 53, 57, 79, 85]\n",
    "\n",
    "# 아래에 코드를 작성하시오.\n",
    "for number in numbers:     # numbers 리스트 안에 있는 숫자들로 반복을 돌려봐라!\n",
    "    for i in range(2,number):   # 2 ~ number -1 의 숫자로 반복을 돌려봐라\n",
    "        if number %i == 0:      # 만약 number가 i로 나눠진다면   소수가 아니다  \n",
    "            print(f'{number}는 소수가 아닙니다. {i}는 {number}의 인수입니다') # f stream을 사용하여\n",
    "            break  # number는 소수가 아니고 i는 number인수라는 것을 출력한다!\n",
    "        else:\n",
    "            print(f'{number}는 소수입니다')  # 만약 아니라면 number는 소수다라는것을 출력\n",
    "            break  # 이중 포문 : 리스트 안의 숫자 반복과 숫자들을 number -1의 숫자로 나누는 반복 사용했다 \n",
    "print(numbers)\n",
    "#for =else를 쓰지않는다면?\n",
    "\n",
    "#5 가운데 숫자 출력 함수 짝수는 2개 출력하는 함수\n",
    "def get_middle_char(string):   # get_middle_char(string) 함수 정의\n",
    "    middle = len(string)       # middle에 string의 길이를 저장\n",
    "    if middle %2 ==1:          # middle이 (2를 나눠서 나머지가 1이 되는 숫자)>>홀수라면 string의 문자열에      \n",
    "        return string[middle//2]  # 길이를 반으로 나눠서 정수만 사용했고 정수번째에 나타난 글자를 반환한다\n",
    "    else:\n",
    "        return string[middle//2-1:middle//2+1]  # slicing을 사용하여 string길이의 반에서 -1, +1 한 구간을 잘라 리턴했다\n",
    "get_middle_char('sssafy')                        # 난 한번에 두개를 호출하려고 노력했으나 불가능했고 slicing법을 활용해야겠다\n",
    "#6                                  [2:3]\n",
    "def my_avg(*args):   어떠한 숫자도 받아올 수 있는 내장함수\n",
    "    total = sum(args)\n",
    "    avg = total/ len(args)\n",
    "    return avg\n",
    "my_avg(77,83,95,80,70)   ##6 값을 받고 평균을 구하는 함수\n",
    "#7\n",
    "def list_sum(list):\n",
    "    total = 0\n",
    "    for number in list:\n",
    "        total += number\n",
    "    return total   #7리스트안에 숫자들을 모두 더하는 함수\n",
    "list_sum([1,2,3,4,5]\n",
    "#8\n",
    "         def dict_list_sum(li):\n",
    "    total = 0\n",
    "    for item in li:\n",
    "        total +=item['age']\n",
    "    return total   ##8 리스트안 특정한 항목만의 합을 더하는 함수\n",
    "#9\n",
    "         def all_list_sum(li):\n",
    "    total = 0\n",
    "    for item in li:\n",
    "        for i in item:\n",
    "            total += i\n",
    "    return total\n",
    "all_list_sum([[1],[2,3],[4,5,6],[7,8,9,10]]) #9 리스트안에 리스트들의 숫자들의 합을 모두 더하는 함수"
   ]
  },
  {
   "cell_type": "code",
   "execution_count": 2,
   "metadata": {},
   "outputs": [],
   "source": [
    "# 1번은 홀수는 2를 곱하고 짝수는 3을 곱한 숫자들을 합한 합을 나타내는 코딩\n",
    "#2 소수 구별 소수는 y, 아니면 n\n",
    "#3  소수 구별 2번째\n",
    "#4 numbers = [26, 39, 51, 53, 57, 79, 85]  소수 인지 아닌지 출력하는 함수\n",
    "#5 가운데 숫자 출력 함수 짝수는 2개 출력하는 함수\n",
    "#6 값을 받고 평균을 구하는 함수\n",
    "#7리스트안에 숫자들을 모두 더하는 함수\n",
    "#8 리스트안 특정한 항목만의 합을 더하는 함수\n",
    "#9 리스트안에 리스트들의 숫자들의 합을 모두 더하는 함수"
   ]
  },
  {
   "cell_type": "code",
   "execution_count": 16,
   "metadata": {},
   "outputs": [
    {
     "name": "stdout",
     "output_type": "stream",
     "text": [
      "5\n",
      "34\n"
     ]
    }
   ],
   "source": [
    "#1 \n",
    "number = int(input())\n",
    "total = 0\n",
    "for i in range(1,number+1):\n",
    "    if i %2 == 1:\n",
    "        total += i*2\n",
    "    else:\n",
    "        total += i*3\n",
    "print(total)"
   ]
  },
  {
   "cell_type": "code",
   "execution_count": 18,
   "metadata": {},
   "outputs": [
    {
     "name": "stdout",
     "output_type": "stream",
     "text": [
      "6\n",
      "N\n"
     ]
    }
   ],
   "source": [
    "#2 소수구별\n",
    "number = int(input())\n",
    "is_number = 'Y'\n",
    "for i in range(2,number):  # range 잘못했었노\n",
    "    if number%i == 0:\n",
    "        is_number = 'N'\n",
    "        break\n",
    "print(is_number)"
   ]
  },
  {
   "cell_type": "code",
   "execution_count": 29,
   "metadata": {},
   "outputs": [
    {
     "name": "stdout",
     "output_type": "stream",
     "text": [
      "7\n",
      "Y\n"
     ]
    }
   ],
   "source": [
    "number = int(input())\n",
    "for i in range(2,number):\n",
    "    if number % i ==0:\n",
    "        print('N')\n",
    "        break\n",
    "    else:\n",
    "        print('Y')\n",
    "        break"
   ]
  },
  {
   "cell_type": "code",
   "execution_count": 44,
   "metadata": {},
   "outputs": [
    {
     "name": "stdout",
     "output_type": "stream",
     "text": [
      "26는 소수가 아닙니다. 2는26의 인수입니다\n",
      "39는 소수가 아닙니다. 3는39의 인수입니다\n",
      "51는 소수가 아닙니다. 3는51의 인수입니다\n",
      "53는 소수입니다\n",
      "57는 소수가 아닙니다. 3는57의 인수입니다\n",
      "79는 소수입니다\n",
      "85는 소수가 아닙니다. 5는85의 인수입니다\n",
      "[26, 39, 51, 53, 57, 79, 85]\n"
     ]
    }
   ],
   "source": [
    "#4 numbers = [26, 39, 51, 53, 57, 79, 85]  소수 인지 아닌지 출력하는 함수\n",
    "numbers = [26, 39, 51, 53, 57, 79, 85]\n",
    "for number in numbers:\n",
    "    for i in range(2,number):\n",
    "        if number%i == 0:\n",
    "            print(f'{number}는 소수가 아닙니다. {i}는{number}의 인수입니다')\n",
    "            break\n",
    "    else:\n",
    "            print(f'{number}는 소수입니다')\n",
    "print(numbers)\n",
    "          \n",
    "        "
   ]
  },
  {
   "cell_type": "code",
   "execution_count": 50,
   "metadata": {},
   "outputs": [
    {
     "data": {
      "text/plain": [
       "'af'"
      ]
     },
     "execution_count": 50,
     "metadata": {},
     "output_type": "execute_result"
    }
   ],
   "source": [
    "#5 가운데 문자 출력 함수 짝수는 2개 출력하는 함수\n",
    "def get_middle_char(string):\n",
    "    middle = len(string)\n",
    "    if middle %2 == 1:\n",
    "        return string[middle//2]\n",
    "    else:\n",
    "        return string[middle//2-1:middle//2+1]\n",
    "get_middle_char('ssafyy')\n",
    "    "
   ]
  },
  {
   "cell_type": "code",
   "execution_count": 55,
   "metadata": {},
   "outputs": [
    {
     "data": {
      "text/plain": [
       "35.0"
      ]
     },
     "execution_count": 55,
     "metadata": {},
     "output_type": "execute_result"
    }
   ],
   "source": [
    " ##6 어떠한 값을 받고 평균을 구하는 함수.\n",
    "def my_avg(*arge):\n",
    "    total = sum(arge)\n",
    "    avr = total / len(arge)\n",
    "    return avr\n",
    "my_avg(55,22,11,32,55)"
   ]
  },
  {
   "cell_type": "code",
   "execution_count": 62,
   "metadata": {},
   "outputs": [
    {
     "data": {
      "text/plain": [
       "15"
      ]
     },
     "execution_count": 62,
     "metadata": {},
     "output_type": "execute_result"
    }
   ],
   "source": [
    "#7리스트안에 숫자들을 모두 더하는 함수\n",
    "def list_sum (li):\n",
    "    total = 0\n",
    "    for number in li:\n",
    "        total += number\n",
    "    return total\n",
    "list_sum([1,2,3,4,5]) ## 리스트를 받는 것에 잘몰랐었다  []를 받기 위해 ()가 필요하다 (함수 내 [리스트])\n",
    "    "
   ]
  },
  {
   "cell_type": "code",
   "execution_count": 66,
   "metadata": {},
   "outputs": [],
   "source": [
    "#8 리스트안 특정한 항목만의 합을 더하는 함수\n",
    "def age (list):\n",
    "    total = 0\n",
    "    for item in list:\n",
    "        total += item['age']  #(dictionary사용할 경우 반드시 대 괄호를 사용한다!!!)\n",
    "    return total\n"
   ]
  },
  {
   "cell_type": "code",
   "execution_count": 1,
   "metadata": {},
   "outputs": [
    {
     "data": {
      "text/plain": [
       "55"
      ]
     },
     "execution_count": 1,
     "metadata": {},
     "output_type": "execute_result"
    }
   ],
   "source": [
    "#all_list_sum([[1],[2,3],[4,5,6],[7,8,9,10]]) #9 리스트안에 리스트들의 숫자들의 합을 모두 더하는 함수\n",
    "\n",
    "def all_list_sum(list): \n",
    "    total = 0                                         #total은 반드시 함수 안에 있어야한다.\n",
    "    for item in list:\n",
    "        for i in item:\n",
    "            total += i\n",
    "    return total                                   # 큰 for 문이 끝날 무렵에 return을 해야한다!!\n",
    "all_list_sum([[1],[2,3],[4,5,6],[7,8,9,10]]) \n"
   ]
  },
  {
   "cell_type": "code",
   "execution_count": 30,
   "metadata": {},
   "outputs": [
    {
     "data": {
      "text/plain": [
       "14"
      ]
     },
     "execution_count": 30,
     "metadata": {},
     "output_type": "execute_result"
    }
   ],
   "source": [
    "# 1\n",
    "def problem01(n):\n",
    "    total = 0\n",
    "    for i in range(1,n+1):\n",
    "        if i%2 == 1:\n",
    "             total += i*2\n",
    "        else:\n",
    "             total += i*3\n",
    "    return total\n",
    "problem01(3)"
   ]
  },
  {
   "cell_type": "code",
   "execution_count": 100,
   "metadata": {},
   "outputs": [
    {
     "name": "stdout",
     "output_type": "stream",
     "text": [
      "12는 소수가 아닙니다. 2= 12의 약수입니다\n",
      "53는 소수 입니다\n",
      "86는 소수가 아닙니다. 2= 86의 약수입니다\n",
      "97는 소수 입니다\n",
      "17는 소수 입니다\n",
      "19는 소수 입니다\n",
      "20는 소수가 아닙니다. 2= 20의 약수입니다\n",
      "75는 소수가 아닙니다. 3= 75의 약수입니다\n",
      "76는 소수가 아닙니다. 2= 76의 약수입니다\n",
      "74는 소수가 아닙니다. 2= 74의 약수입니다\n",
      "15는 소수가 아닙니다. 3= 15의 약수입니다\n"
     ]
    }
   ],
   "source": [
    "# 2 소수 구별 소수는 y 아니면 n\n",
    "numbers = [12,53,86,97,17,19,20,75,76,74,15]\n",
    "for number in numbers :\n",
    "    for i in range(2,number):\n",
    "        if number%i == 0:\n",
    "            print(f'{number}는 소수가 아닙니다. {i}= {number}의 약수입니다')\n",
    "            break\n",
    "    else:  ###for else에 대해서 다시 생각해보는 계기가 되었다!!!\n",
    "        print(f'{number}는 소수 입니다')\n",
    "        \n",
    "    \n",
    "            "
   ]
  },
  {
   "cell_type": "code",
   "execution_count": 102,
   "metadata": {},
   "outputs": [
    {
     "name": "stdout",
     "output_type": "stream",
     "text": [
      "26는 소수가 아닙니다. 2는26의 인수입니다\n",
      "39는 소수가 아닙니다. 3는39의 인수입니다\n",
      "51는 소수가 아닙니다. 3는51의 인수입니다\n",
      "53는 소수입니다\n",
      "57는 소수가 아닙니다. 3는57의 인수입니다\n",
      "79는 소수입니다\n",
      "75는 소수가 아닙니다. 3는75의 인수입니다\n"
     ]
    }
   ],
   "source": [
    "numbers = [26, 39, 51, 53, 57, 79, 75]\n",
    "for number in numbers:\n",
    "    for i in range(2,number):\n",
    "        if number%i == 0:\n",
    "            print(f'{number}는 소수가 아닙니다. {i}는{number}의 인수입니다')\n",
    "            break\n",
    "    else:\n",
    "            print(f'{number}는 소수입니다')"
   ]
  },
  {
   "cell_type": "code",
   "execution_count": 112,
   "metadata": {},
   "outputs": [
    {
     "data": {
      "text/plain": [
       "'af'"
      ]
     },
     "execution_count": 112,
     "metadata": {},
     "output_type": "execute_result"
    }
   ],
   "source": [
    "#5가운데 인자 출력하는 함수\n",
    "def middlechoose(string):\n",
    "    result = len(string)\n",
    "    if result %2 ==1:\n",
    "        return string[result//2]  ## 배열에 대한 개념이 매우 부족하다!!!\n",
    "    else:\n",
    "        return string[result//2 -1:result//2 +1] ## 자르는 개념도 부족하다.\n",
    "middlechoose('ssaffy')"
   ]
  },
  {
   "cell_type": "code",
   "execution_count": 114,
   "metadata": {},
   "outputs": [
    {
     "data": {
      "text/plain": [
       "7.5"
      ]
     },
     "execution_count": 114,
     "metadata": {},
     "output_type": "execute_result"
    }
   ],
   "source": [
    "#6 평균 구하는 함수\n",
    "def middlevalue(list):\n",
    "    total = sum(list)\n",
    "    return total/len(list)\n",
    "numbers = [7, 17, 10, 5, 4, 3, 17, 5, 2, 5]\n",
    "middlevalue(numbers)"
   ]
  },
  {
   "cell_type": "code",
   "execution_count": 116,
   "metadata": {},
   "outputs": [
    {
     "data": {
      "text/plain": [
       "7.5"
      ]
     },
     "execution_count": 116,
     "metadata": {},
     "output_type": "execute_result"
    }
   ],
   "source": [
    "# for 문을 사용해서!\n",
    "def middlevalue(list):\n",
    "    total = 0 \n",
    "    for i in list:\n",
    "        total += i\n",
    "    return total/len(list)\n",
    "\n",
    "numbers = [7, 17, 10, 5, 4, 3, 17, 5, 2, 5]\n",
    "middlevalue(numbers)"
   ]
  },
  {
   "cell_type": "code",
   "execution_count": 169,
   "metadata": {},
   "outputs": [
    {
     "name": "stdout",
     "output_type": "stream",
     "text": [
      "<class 'list'>\n"
     ]
    },
    {
     "data": {
      "text/plain": [
       "21"
      ]
     },
     "execution_count": 169,
     "metadata": {},
     "output_type": "execute_result"
    }
   ],
   "source": [
    "# 8 리스트안 특정한 항목만의 합을 더하는 함수\n",
    "ages = [ {'이름' : '신민호',  '나이' : 1},  ## 이것은 리스트가 아니라 사전이었구나!!!\n",
    "        {'이름' : '신민호1', '나이' : 2},   ## 딕셔네리 한개씩 {}로 연결하고 여러개는 리스트화해서 사용해야한다..ㅎㅎ\n",
    "        {'이름' : '신민호2', '나이' : 3},\n",
    "        {'이름' : '신민호3', '나이' : 4},\n",
    "        {'이름' : '신민호4', '나이' : 5},\n",
    "        {'이름' : '신민호5', '나이' : 6}]\n",
    "print(type(ages))\n",
    "def sumlist(lists):\n",
    "    total = 0\n",
    "    for item in lists:\n",
    "        total += item['나이'] ## \n",
    "    return total\n",
    "sumlist(ages)"
   ]
  },
  {
   "cell_type": "code",
   "execution_count": null,
   "metadata": {},
   "outputs": [],
   "source": [
    "# 9 리스트안에 리스트들의 숫자들의 합을 모두 더하는 함수\n",
    "def all_list_sum (a):\n",
    "    total = 0\n",
    "    for i in a:\n",
    "        for item in i:\n",
    "            total += item\n",
    "    return total\n",
    "all_list_sum([[1],[2,3],[4,5,6],[7,8,9,10]])    ### 리스트 안에 배열 1개에 들어갔고 그 배열 1개에서 또 그안의 배열에 들어갔다."
   ]
  },
  {
   "cell_type": "code",
   "execution_count": 2,
   "metadata": {},
   "outputs": [
    {
     "name": "stdout",
     "output_type": "stream",
     "text": [
      "apple\n",
      "pple\n"
     ]
    }
   ],
   "source": [
    "#10 a 제거하기\n",
    "words = input()\n",
    "result = ''\n",
    "for char in words:\n",
    "    if char != 'a':  # a를 스트링화 안했노\n",
    "        result +=char\n",
    "print(result)"
   ]
  },
  {
   "cell_type": "code",
   "execution_count": 5,
   "metadata": {},
   "outputs": [
    {
     "name": "stdout",
     "output_type": "stream",
     "text": [
      "3\n"
     ]
    }
   ],
   "source": [
    "#11. 5의 갯수 구하기\n",
    "numbers = [7, 17, 10, 5, 4, 3, 17, 5, 2, 5]\n",
    "count = 0\n",
    "for number in numbers:\n",
    "    if number ==5:\n",
    "        count += 1\n",
    "print(numbers.count(5))\n"
   ]
  },
  {
   "cell_type": "code",
   "execution_count": 13,
   "metadata": {},
   "outputs": [
    {
     "name": "stdout",
     "output_type": "stream",
     "text": [
      "22\n",
      "3\n"
     ]
    }
   ],
   "source": [
    "#13\n",
    "# 최댓값 등장횟수 구하기\n",
    "numbers = [7, 10, 22, 7, 22, 22]\n",
    "count = 0\n",
    "max_number = numbers[0]  # 들여쓰기 잘못하면 안된다.\n",
    "for number in numbers:  # 배열 0부터 하게 잘 만들자\n",
    "    if max_number < number:\n",
    "        max_number = number\n",
    "        count = 0\n",
    "    if max_number == number:\n",
    "        count +=1\n",
    "print(max_number)\n",
    "print(count)"
   ]
  },
  {
   "cell_type": "code",
   "execution_count": 14,
   "metadata": {},
   "outputs": [
    {
     "name": "stdout",
     "output_type": "stream",
     "text": [
      "7 2\n"
     ]
    }
   ],
   "source": [
    "# 최솟값 등장횟수 구하기\n",
    "numbers = [7, 10, 22, 7, 22, 22]\n",
    "count = 0\n",
    "min_number = numbers[0]  # 들여쓰기 잘못하면 안된다.\n",
    "for number in numbers:  # 배열 0부터 하게 잘 만들자\n",
    "    if min_number > number:\n",
    "        min_number = number\n",
    "        count = 0\n",
    "    if min_number == number:\n",
    "        count +=1\n",
    "print(min_number,count)"
   ]
  },
  {
   "cell_type": "code",
   "execution_count": 16,
   "metadata": {},
   "outputs": [
    {
     "name": "stdout",
     "output_type": "stream",
     "text": [
      "4\n"
     ]
    }
   ],
   "source": [
    "students = ['이영희', '김철수', '이영희', '조민지', '김철수', '조민지', '이영희', '이영희']\n",
    "count = 0\n",
    "for number in students:\n",
    "    if number == '이영희':\n",
    "        count +=1\n",
    "print(count)"
   ]
  },
  {
   "cell_type": "code",
   "execution_count": 24,
   "metadata": {},
   "outputs": [
    {
     "name": "stdout",
     "output_type": "stream",
     "text": [
      "5.0\n",
      "0\n",
      "14\n"
     ]
    }
   ],
   "source": [
    "#14\n",
    "def my_abs(n):\n",
    "    if type(n) == complex:\n",
    "        return (n.real**2 + n.imag**2) **0.5 \n",
    "    else:\n",
    "        if n>0 :\n",
    "            return n\n",
    "        else:\n",
    "            return -n\n",
    "    \n",
    "print(my_abs(3+4j))\n",
    "print(my_abs(0))\n",
    "print(my_abs(-14))"
   ]
  },
  {
   "cell_type": "code",
   "execution_count": 35,
   "metadata": {},
   "outputs": [
    {
     "name": "stdout",
     "output_type": "stream",
     "text": [
      "True\n",
      "True\n",
      "False\n",
      "True True False\n"
     ]
    }
   ],
   "source": [
    "#15.`all()` 직접 구현하기\n",
    "\n",
    "#파이썬 내장 함수 `all()`을 직접 구현한 `my_all()`을 작성하시오.\n",
    "def my_all(elements):    # 문제에 속아 정의를 잘못내리지 말아야한다. \n",
    "    result = True\n",
    "    for number in elements:\n",
    "        if bool(number) == False:\n",
    "            result = False\n",
    "            break\n",
    "    return result\n",
    "\n",
    "    \n",
    "\n",
    "print(my_all([])), print(my_all([1, 2, 5, '6']))\n",
    "print(my_all([[], 2, 5, '6']))\n",
    "print(my_all([]), my_all([1, 2, 5, '6']), my_all([[], 2, 5, '6']))"
   ]
  },
  {
   "cell_type": "code",
   "execution_count": 38,
   "metadata": {},
   "outputs": [
    {
     "name": "stdout",
     "output_type": "stream",
     "text": [
      "True\n",
      "True\n",
      "False\n"
     ]
    }
   ],
   "source": [
    "# 16 `any()`는 인자로 받는 iterable(range, list)의 요소 중 하나라도 참이면 True를 반환하고, 비어있으면 False를 반환합니다.\n",
    "#파이썬 내장 함수 `any()`을 직접 구현한 `my_any()` 함수를 작성하시오.\n",
    "\n",
    "def my_any(elements):\n",
    "    result = False\n",
    "    for element in elements:\n",
    "        if bool(element)==True:\n",
    "            result = True\n",
    "            break\n",
    "    return result\n",
    "print(my_any([1, 2, 5, '6'])) #=> True\n",
    "print(my_any([[], 2, 5, '6'])) #=> True\n",
    "print(my_any([0])) #=> False"
   ]
  },
  {
   "cell_type": "code",
   "execution_count": 42,
   "metadata": {},
   "outputs": [
    {
     "data": {
      "text/plain": [
       "33"
      ]
     },
     "execution_count": 42,
     "metadata": {},
     "output_type": "execute_result"
    }
   ],
   "source": [
    "#17 달팽이\n",
    "def snail(height, day, night):\n",
    "    result = 0\n",
    "    result = height // (day -night)\n",
    "    return result\n",
    "snail(100,5,2)"
   ]
  },
  {
   "cell_type": "code",
   "execution_count": 50,
   "metadata": {},
   "outputs": [
    {
     "data": {
      "text/plain": [
       "33"
      ]
     },
     "execution_count": 50,
     "metadata": {},
     "output_type": "execute_result"
    }
   ],
   "source": [
    "#17-2 while문 사용해서 100을 채우자\n",
    "def snail(height, day, night):\n",
    "    small_height = 0\n",
    "    count = 0\n",
    "    while True:\n",
    "        count +=1\n",
    "        small_height += day\n",
    "        if small_height >= height:\n",
    "                return count\n",
    "        small_height -= night\n",
    "snail(100,5,2)\n",
    "            "
   ]
  },
  {
   "cell_type": "code",
   "execution_count": 53,
   "metadata": {},
   "outputs": [
    {
     "name": "stdout",
     "output_type": "stream",
     "text": [
      "10\n",
      "10\n"
     ]
    }
   ],
   "source": [
    "#18.자릿수 더하기 (SWEA #2058)\n",
    "#자연수 number를 입력 받아, 각 자릿수의 합을 계산하여 출력하시오.\n",
    "\n",
    "def sum_of_digit(numbers):\n",
    "    result = 0\n",
    "    for number in str(numbers):\n",
    "        result += int(number)\n",
    "    return result\n",
    "    \n",
    "\n",
    "print(sum_of_digit(1234)) #=> 10\n",
    "print(sum_of_digit(4321)) #=> 10"
   ]
  },
  {
   "cell_type": "code",
   "execution_count": 74,
   "metadata": {},
   "outputs": [
    {
     "data": {
      "text/plain": [
       "10"
      ]
     },
     "execution_count": 74,
     "metadata": {},
     "output_type": "execute_result"
    }
   ],
   "source": [
    "# 18 숫자로 계산\n",
    "def sum_of_digit(numbers):\n",
    "    total = 0\n",
    "    while True:\n",
    "        remainder = numbers%10\n",
    "        total += remainder\n",
    "        numbers =  numbers //10\n",
    "        if numbers ==0:\n",
    "            return total\n",
    "sum_of_digit(1234)\n",
    "    "
   ]
  },
  {
   "cell_type": "code",
   "execution_count": 1,
   "metadata": {},
   "outputs": [
    {
     "data": {
      "text/plain": [
       "15"
      ]
     },
     "execution_count": 1,
     "metadata": {},
     "output_type": "execute_result"
    }
   ],
   "source": [
    "##재귀함수로 도전\n",
    "def sum_of_digit(number):\n",
    "    total = 0\n",
    "    total +=number%10\n",
    "    number = number//10\n",
    "    if number ==0:\n",
    "        return total\n",
    "    return total +  sum_of_digit(number)\n",
    "sum_of_digit(12345)"
   ]
  },
  {
   "cell_type": "code",
   "execution_count": 9,
   "metadata": {},
   "outputs": [
    {
     "ename": "NameError",
     "evalue": "name '이름' is not defined",
     "output_type": "error",
     "traceback": [
      "\u001b[1;31m---------------------------------------------------------------------------\u001b[0m",
      "\u001b[1;31mNameError\u001b[0m                                 Traceback (most recent call last)",
      "\u001b[1;32m<ipython-input-9-1a39291ad0f2>\u001b[0m in \u001b[0;36m<module>\u001b[1;34m\u001b[0m\n\u001b[0;32m      8\u001b[0m \u001b[1;32mfor\u001b[0m \u001b[0mage\u001b[0m \u001b[1;32min\u001b[0m \u001b[0mages\u001b[0m \u001b[1;33m:\u001b[0m\u001b[1;33m\u001b[0m\u001b[1;33m\u001b[0m\u001b[0m\n\u001b[0;32m      9\u001b[0m     \u001b[1;32mif\u001b[0m \u001b[0mage\u001b[0m\u001b[1;33m[\u001b[0m\u001b[1;34m'나이'\u001b[0m\u001b[1;33m]\u001b[0m \u001b[1;33m==\u001b[0m \u001b[1;36m3\u001b[0m\u001b[1;33m:\u001b[0m\u001b[1;33m\u001b[0m\u001b[1;33m\u001b[0m\u001b[0m\n\u001b[1;32m---> 10\u001b[1;33m         \u001b[0mprint\u001b[0m\u001b[1;33m(\u001b[0m\u001b[1;34mf'나는 {이름}입니다'\u001b[0m\u001b[1;33m)\u001b[0m\u001b[1;33m\u001b[0m\u001b[1;33m\u001b[0m\u001b[0m\n\u001b[0m",
      "\u001b[1;31mNameError\u001b[0m: name '이름' is not defined"
     ]
    }
   ],
   "source": [
    "ages = [ {'이름' : '신민호',  '나이' : 1},  ## 이것은 리스트가 아니라 사전이었구나!!!\n",
    "        {'이름' : '신민호1', '나이' : 2},   ## 딕셔네리 한개씩 {}로 연결하고 여러개는 리스트화해서 사용해야한다..ㅎㅎ\n",
    "        {'이름' : '신민호2', '나이' : 3},\n",
    "        {'이름' : '신민호3', '나이' : 4},\n",
    "        {'이름' : '신민호4', '나이' : 5},\n",
    "        {'이름' : '신민호5', '나이' : 6}]\n",
    "\n",
    "for age in ages :\n",
    "    ages['이름'] = 0\n",
    "    if age['나이'] == 3:\n",
    "        print(f'나는 {이름}입니다')"
   ]
  }
 ],
 "metadata": {
  "kernelspec": {
   "display_name": "Python 3",
   "language": "python",
   "name": "python3"
  },
  "language_info": {
   "codemirror_mode": {
    "name": "ipython",
    "version": 3
   },
   "file_extension": ".py",
   "mimetype": "text/x-python",
   "name": "python",
   "nbconvert_exporter": "python",
   "pygments_lexer": "ipython3",
   "version": "3.7.7"
  }
 },
 "nbformat": 4,
 "nbformat_minor": 4
}
