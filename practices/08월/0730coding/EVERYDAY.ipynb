{
 "cells": [
  {
   "cell_type": "code",
   "execution_count": 1,
   "metadata": {},
   "outputs": [
    {
     "ename": "SyntaxError",
     "evalue": "invalid syntax (<ipython-input-1-49963107ec29>, line 75)",
     "output_type": "error",
     "traceback": [
      "\u001b[1;36m  File \u001b[1;32m\"<ipython-input-1-49963107ec29>\"\u001b[1;36m, line \u001b[1;32m75\u001b[0m\n\u001b[1;33m    def dict_list_sum(li):\u001b[0m\n\u001b[1;37m      ^\u001b[0m\n\u001b[1;31mSyntaxError\u001b[0m\u001b[1;31m:\u001b[0m invalid syntax\n"
     ]
    }
   ],
   "source": [
    "무엇을 하는 코딩들일까?\n",
    "\n",
    "number = int(input()) ## number 에는 정수형 인풋을 기입받는다.\n",
    "\n",
    "# 아래에 코드를 작성하시오.\n",
    "# 1번은 홀수는 2를 곱하고 짝수는 3을 곱한 숫자들을 합한 합을 나타내는 코딩\n",
    "total = 0  # 토탈을 0으로 초기화 시켜놓고 시작한다.\n",
    "for i in range(1,number+1): # 1부터 number까지 숫자를 반복을 돌린다\n",
    "    if i % 2 == 1:   # 2로 나누었을 때 나머지가 1이되는 i 라면 == 홀수라면 토탈에 2를 곱한 수를 더한다\n",
    "        total = total + i*2\n",
    "    else:\n",
    "        total += i*3  # 아니라면 (짝수라면 ) i *3숫자를 곱한다\n",
    "print(total)  # 반복을 끝낸 후 토탈을 출력한다!\n",
    " # 1번은 홀수는 2를 곱하고 짝수는 3을 곱한 숫자들을 합한 합을 나타내는 코딩이다.\n",
    "#2 소수 구별 소수는 y, 아니면 n\n",
    "number = int(input())\n",
    "\n",
    "# 아래에 코드를 작성하시오.\n",
    "is_prime = 'Y'  # is_prime에는 'Y '를 저장\n",
    "for i in range(2,number):  # 2~number-1 까지 반복을 돌린다\n",
    "    if number % i ==0:     # 만약 number가 2~ number -1 의 숫자로 나눠지는 숫자가 있다면 \n",
    "        is_prime = 'N'     # is_prime운 no로 출력한다! \n",
    "        break              # 1번이라도 나눠지는 숫자가 있다면 반복을 그만 둬라!\n",
    "print(is_prime)            # input의 결과가 무엇인지 보여달라!\n",
    "\n",
    "#3  소수 구별 2번째\n",
    "number = int(input())      #number는 자연수를 기입받는다\n",
    "\n",
    "# 아래에 코드를 작성하시오.\n",
    "for i in range(2,number):  # 2~ number -1 의 숫자로 반복을 한다        \n",
    "    if number % i ==0:     # number가 i 로 나눠진다면! (%i = 0 >> 나머지가 0 , 나눠떨어진다는 이야기)\n",
    "        print('N')          # N을 표시\n",
    "        break              # 그만 하고 나와도 된다\n",
    "else:\n",
    "        print('Y')         # 아니라면 Y!\n",
    "\n",
    "\n",
    "#4 numbers = [26, 39, 51, 53, 57, 79, 85]  소수 인지 아닌지 출력하는 함수\n",
    "numbers = [26, 39, 51, 53, 57, 79, 85]\n",
    "\n",
    "# 아래에 코드를 작성하시오.\n",
    "for number in numbers:     # numbers 리스트 안에 있는 숫자들로 반복을 돌려봐라!\n",
    "    for i in range(2,number):   # 2 ~ number -1 의 숫자로 반복을 돌려봐라\n",
    "        if number %i == 0:      # 만약 number가 i로 나눠진다면   소수가 아니다  \n",
    "            print(f'{number}는 소수가 아닙니다. {i}는 {number}의 인수입니다') # f stream을 사용하여\n",
    "            break  # number는 소수가 아니고 i는 number인수라는 것을 출력한다!\n",
    "        else:\n",
    "            print(f'{number}는 소수입니다')  # 만약 아니라면 number는 소수다라는것을 출력\n",
    "            break  # 이중 포문 : 리스트 안의 숫자 반복과 숫자들을 number -1의 숫자로 나누는 반복 사용했다 \n",
    "print(numbers)\n",
    "#for =else를 쓰지않는다면?\n",
    "\n",
    "#5 가운데 숫자 출력 함수 짝수는 2개 출력하는 함수\n",
    "def get_middle_char(string):   # get_middle_char(string) 함수 정의\n",
    "    middle = len(string)       # middle에 string의 길이를 저장\n",
    "    if middle %2 ==1:          # middle이 (2를 나눠서 나머지가 1이 되는 숫자)>>홀수라면 string의 문자열에      \n",
    "        return string[middle//2]  # 길이를 반으로 나눠서 정수만 사용했고 정수번째에 나타난 글자를 반환한다\n",
    "    else:\n",
    "        return string[middle//2-1:middle//2+1]  # slicing을 사용하여 string길이의 반에서 -1, +1 한 구간을 잘라 리턴했다\n",
    "get_middle_char('sssafy')                        # 난 한번에 두개를 호출하려고 노력했으나 불가능했고 slicing법을 활용해야겠다\n",
    "#6                                  [2:3]\n",
    "def my_avg(*args):   어떠한 숫자도 받아올 수 있는 내장함수\n",
    "    total = sum(args)\n",
    "    avg = total/ len(args)\n",
    "    return avg\n",
    "my_avg(77,83,95,80,70)   ##6 값을 받고 평균을 구하는 함수\n",
    "#7\n",
    "def list_sum(list):\n",
    "    total = 0\n",
    "    for number in list:\n",
    "        total += number\n",
    "    return total   #7리스트안에 숫자들을 모두 더하는 함수\n",
    "list_sum([1,2,3,4,5]\n",
    "#8\n",
    "         def dict_list_sum(li):\n",
    "    total = 0\n",
    "    for item in li:\n",
    "        total +=item['age']\n",
    "    return total   ##8 리스트안 특정한 항목만의 합을 더하는 함수\n",
    "#9\n",
    "         def all_list_sum(li):\n",
    "    total = 0\n",
    "    for item in li:\n",
    "        for i in item:\n",
    "            total += i\n",
    "    return total\n",
    "all_list_sum([[1],[2,3],[4,5,6],[7,8,9,10]]) #9 리스트안에 리스트들의 숫자들의 합을 모두 더하는 함수"
   ]
  },
  {
   "cell_type": "code",
   "execution_count": 2,
   "metadata": {},
   "outputs": [],
   "source": [
    "# 1번은 홀수는 2를 곱하고 짝수는 3을 곱한 숫자들을 합한 합을 나타내는 코딩\n",
    "#2 소수 구별 소수는 y, 아니면 n\n",
    "#3  소수 구별 2번째\n",
    "#4 numbers = [26, 39, 51, 53, 57, 79, 85]  소수 인지 아닌지 출력하는 함수\n",
    "#5 가운데 숫자 출력 함수 짝수는 2개 출력하는 함수\n",
    "#6 값을 받고 평균을 구하는 함수\n",
    "#7리스트안에 숫자들을 모두 더하는 함수\n",
    "#8 리스트안 특정한 항목만의 합을 더하는 함수\n",
    "#9 리스트안에 리스트들의 숫자들의 합을 모두 더하는 함수"
   ]
  },
  {
   "cell_type": "code",
   "execution_count": 16,
   "metadata": {},
   "outputs": [
    {
     "name": "stdout",
     "output_type": "stream",
     "text": [
      "5\n",
      "34\n"
     ]
    }
   ],
   "source": [
    "#1 \n",
    "number = int(input())\n",
    "total = 0\n",
    "for i in range(1,number+1):\n",
    "    if i %2 == 1:\n",
    "        total += i*2\n",
    "    else:\n",
    "        total += i*3\n",
    "print(total)"
   ]
  },
  {
   "cell_type": "code",
   "execution_count": 18,
   "metadata": {},
   "outputs": [
    {
     "name": "stdout",
     "output_type": "stream",
     "text": [
      "6\n",
      "N\n"
     ]
    }
   ],
   "source": [
    "#2 소수구별\n",
    "number = int(input())\n",
    "is_number = 'Y'\n",
    "for i in range(2,number):  # range 잘못했었노\n",
    "    if number%i == 0:\n",
    "        is_number = 'N'\n",
    "        break\n",
    "print(is_number)"
   ]
  },
  {
   "cell_type": "code",
   "execution_count": 29,
   "metadata": {},
   "outputs": [
    {
     "name": "stdout",
     "output_type": "stream",
     "text": [
      "7\n",
      "Y\n"
     ]
    }
   ],
   "source": [
    "number = int(input())\n",
    "for i in range(2,number):\n",
    "    if number % i ==0:\n",
    "        print('N')\n",
    "        break\n",
    "    else:\n",
    "        print('Y')\n",
    "        break"
   ]
  },
  {
   "cell_type": "code",
   "execution_count": 44,
   "metadata": {},
   "outputs": [
    {
     "name": "stdout",
     "output_type": "stream",
     "text": [
      "26는 소수가 아닙니다. 2는26의 인수입니다\n",
      "39는 소수가 아닙니다. 3는39의 인수입니다\n",
      "51는 소수가 아닙니다. 3는51의 인수입니다\n",
      "53는 소수입니다\n",
      "57는 소수가 아닙니다. 3는57의 인수입니다\n",
      "79는 소수입니다\n",
      "85는 소수가 아닙니다. 5는85의 인수입니다\n",
      "[26, 39, 51, 53, 57, 79, 85]\n"
     ]
    }
   ],
   "source": [
    "#4 numbers = [26, 39, 51, 53, 57, 79, 85]  소수 인지 아닌지 출력하는 함수\n",
    "numbers = [26, 39, 51, 53, 57, 79, 85]\n",
    "for number in numbers:\n",
    "    for i in range(2,number):\n",
    "        if number%i == 0:\n",
    "            print(f'{number}는 소수가 아닙니다. {i}는{number}의 인수입니다')\n",
    "            break\n",
    "    else:\n",
    "            print(f'{number}는 소수입니다')\n",
    "print(numbers)\n",
    "          \n",
    "        "
   ]
  },
  {
   "cell_type": "code",
   "execution_count": 50,
   "metadata": {},
   "outputs": [
    {
     "data": {
      "text/plain": [
       "'af'"
      ]
     },
     "execution_count": 50,
     "metadata": {},
     "output_type": "execute_result"
    }
   ],
   "source": [
    "#5 가운데 문자 출력 함수 짝수는 2개 출력하는 함수\n",
    "def get_middle_char(string):\n",
    "    middle = len(string)\n",
    "    if middle %2 == 1:\n",
    "        return string[middle//2]\n",
    "    else:\n",
    "        return string[middle//2-1:middle//2+1]\n",
    "get_middle_char('ssafyy')\n",
    "    "
   ]
  },
  {
   "cell_type": "code",
   "execution_count": 55,
   "metadata": {},
   "outputs": [
    {
     "data": {
      "text/plain": [
       "35.0"
      ]
     },
     "execution_count": 55,
     "metadata": {},
     "output_type": "execute_result"
    }
   ],
   "source": [
    " ##6 어떠한 값을 받고 평균을 구하는 함수.\n",
    "def my_avg(*arge):\n",
    "    total = sum(arge)\n",
    "    avr = total / len(arge)\n",
    "    return avr\n",
    "my_avg(55,22,11,32,55)"
   ]
  },
  {
   "cell_type": "code",
   "execution_count": 62,
   "metadata": {},
   "outputs": [
    {
     "data": {
      "text/plain": [
       "15"
      ]
     },
     "execution_count": 62,
     "metadata": {},
     "output_type": "execute_result"
    }
   ],
   "source": [
    "#7리스트안에 숫자들을 모두 더하는 함수\n",
    "def list_sum (li):\n",
    "    total = 0\n",
    "    for number in li:\n",
    "        total += number\n",
    "    return total\n",
    "list_sum([1,2,3,4,5]) ## 리스트를 받는 것에 잘몰랐었다  []를 받기 위해 ()가 필요하다 (함수 내 [리스트])\n",
    "    "
   ]
  },
  {
   "cell_type": "code",
   "execution_count": 66,
   "metadata": {},
   "outputs": [],
   "source": [
    "#8 리스트안 특정한 항목만의 합을 더하는 함수\n",
    "def age (list):\n",
    "    total = 0\n",
    "    for item in list:\n",
    "        total += item['age']  #(dictionary사용할 경우 반드시 대 괄호를 사용한다!!!)\n",
    "    return total\n"
   ]
  },
  {
   "cell_type": "code",
   "execution_count": 1,
   "metadata": {},
   "outputs": [
    {
     "data": {
      "text/plain": [
       "55"
      ]
     },
     "execution_count": 1,
     "metadata": {},
     "output_type": "execute_result"
    }
   ],
   "source": [
    "#all_list_sum([[1],[2,3],[4,5,6],[7,8,9,10]]) #9 리스트안에 리스트들의 숫자들의 합을 모두 더하는 함수\n",
    "\n",
    "def all_list_sum(list): \n",
    "    total = 0                                         #total은 반드시 함수 안에 있어야한다.\n",
    "    for item in list:\n",
    "        for i in item:\n",
    "            total += i\n",
    "    return total                                   # 큰 for 문이 끝날 무렵에 return을 해야한다!!\n",
    "all_list_sum([[1],[2,3],[4,5,6],[7,8,9,10]]) \n"
   ]
  },
  {
   "cell_type": "code",
   "execution_count": 4,
   "metadata": {},
   "outputs": [
    {
     "data": {
      "text/plain": [
       "'SsAfY'"
      ]
     },
     "execution_count": 4,
     "metadata": {},
     "output_type": "execute_result"
    }
   ],
   "source": [
    "#ask code 1번 숫자의 의미\n",
    "def get_scret_word(numbers):\n",
    "    # 65,85,120,\n",
    "    word = ''\n",
    "    for number in numbers:\n",
    "        word += chr(number)\n",
    "    return word\n",
    "get_scret_word([83,115,65,102,89])"
   ]
  },
  {
   "cell_type": "code",
   "execution_count": 10,
   "metadata": {},
   "outputs": [
    {
     "name": "stdout",
     "output_type": "stream",
     "text": [
      "336\n"
     ]
    }
   ],
   "source": [
    "def get_secret_number(word):\n",
    "    number = 0\n",
    "    for char in word:\n",
    "        number += ord(char)\n",
    "    return number\n",
    "print(get_secret_number('tom'))"
   ]
  },
  {
   "cell_type": "code",
   "execution_count": 11,
   "metadata": {},
   "outputs": [
    {
     "name": "stdout",
     "output_type": "stream",
     "text": [
      "john\n"
     ]
    }
   ],
   "source": [
    "def get_strong_word(word1, word2):\n",
    "    number1 = 0\n",
    "    number2= 0\n",
    "    \n",
    "    for char in word1:\n",
    "        number1 +=ord(char)\n",
    "    for char in word2:\n",
    "        number2 +=ord(char)\n",
    "        \n",
    "    return word1 if number1>=number2 else word2\n",
    "\n",
    "print(get_strong_word('tom','john'))"
   ]
  },
  {
   "cell_type": "code",
   "execution_count": 15,
   "metadata": {},
   "outputs": [
    {
     "name": "stdout",
     "output_type": "stream",
     "text": [
      "john\n"
     ]
    }
   ],
   "source": [
    "def get_strong_word(word1, word2):\n",
    "    return word1 if get_secret_number(word1)>= get_secret_number(word2) else word2\n",
    "print(get_strong_word('tom','john'))"
   ]
  },
  {
   "cell_type": "code",
   "execution_count": 38,
   "metadata": {
    "scrolled": true
   },
   "outputs": [
    {
     "ename": "IndentationError",
     "evalue": "unindent does not match any outer indentation level (<tokenize>, line 4)",
     "output_type": "error",
     "traceback": [
      "\u001b[1;36m  File \u001b[1;32m\"<tokenize>\"\u001b[1;36m, line \u001b[1;32m4\u001b[0m\n\u001b[1;33m    for char in i:  # 프로그램을 배열에 저장한다\u001b[0m\n\u001b[1;37m    ^\u001b[0m\n\u001b[1;31mIndentationError\u001b[0m\u001b[1;31m:\u001b[0m unindent does not match any outer indentation level\n"
     ]
    }
   ],
   "source": [
    "def get_strong_word(*word): #3 단어를 하나씩 저장할줄알아야한다.\n",
    "    for i in word:\n",
    "          number = [range(0,i)]\n",
    "        for char in i:  # 프로그램을 배열에 저장한다\n",
    "            number[i] += ord(char) \n",
    "    return number\n",
    "            \n",
    "print( get_strong_word('z','a','b','c'))\n",
    "print( get_strong_word('tom','john'))\n",
    "print(get_strong_word('tom'))"
   ]
  },
  {
   "cell_type": "code",
   "execution_count": 1,
   "metadata": {},
   "outputs": [
    {
     "ename": "NameError",
     "evalue": "name 'i' is not defined",
     "output_type": "error",
     "traceback": [
      "\u001b[1;31m---------------------------------------------------------------------------\u001b[0m",
      "\u001b[1;31mNameError\u001b[0m                                 Traceback (most recent call last)",
      "\u001b[1;32m<ipython-input-1-23164464a3c3>\u001b[0m in \u001b[0;36m<module>\u001b[1;34m\u001b[0m\n\u001b[1;32m----> 1\u001b[1;33m \u001b[0mnumber\u001b[0m \u001b[1;33m=\u001b[0m \u001b[0mrange\u001b[0m\u001b[1;33m(\u001b[0m\u001b[1;36m0\u001b[0m\u001b[1;33m,\u001b[0m\u001b[0mi\u001b[0m\u001b[1;33m)\u001b[0m\u001b[1;33m\u001b[0m\u001b[1;33m\u001b[0m\u001b[0m\n\u001b[0m\u001b[0;32m      2\u001b[0m \u001b[1;33m\u001b[0m\u001b[0m\n",
      "\u001b[1;31mNameError\u001b[0m: name 'i' is not defined"
     ]
    }
   ],
   "source": [
    "     number = range(0,i)\n",
    "    "
   ]
  },
  {
   "cell_type": "code",
   "execution_count": 2,
   "metadata": {},
   "outputs": [],
   "source": [
    "#리스트를 사전화 하는 방법!!!!\n",
    "def count_blood(list): ## 리스트를 사전화하는 방법\n",
    "    result = {}   ## 빈 사전 만든다.\n",
    "    keys = ['A','B','O','AB']   # keys값을 리스트화\n",
    "    for key in keys:   # 혈액형 각각의 개수를 빈사전에 넣는다!\n",
    "        result[key] = list.count(key)\n",
    "    return result\n",
    "list2 = ['A','B','A','O','AB','AB','O','A','B','O','B','AB']\n",
    "count_blood(list2)\n",
    "결과 = {'A': 3, 'B': 3, 'O': 3, 'AB': 3}"
   ]
  },
  {
   "cell_type": "code",
   "execution_count": 3,
   "metadata": {},
   "outputs": [
    {
     "ename": "UnboundLocalError",
     "evalue": "local variable 'result' referenced before assignment",
     "output_type": "error",
     "traceback": [
      "\u001b[1;31m---------------------------------------------------------------------------\u001b[0m",
      "\u001b[1;31mUnboundLocalError\u001b[0m                         Traceback (most recent call last)",
      "\u001b[1;32m<ipython-input-3-b9cae3fa5ea9>\u001b[0m in \u001b[0;36m<module>\u001b[1;34m\u001b[0m\n\u001b[0;32m     16\u001b[0m     \u001b[1;32mreturn\u001b[0m \u001b[0mresult\u001b[0m\u001b[1;33m\u001b[0m\u001b[1;33m\u001b[0m\u001b[0m\n\u001b[0;32m     17\u001b[0m \u001b[1;33m\u001b[0m\u001b[0m\n\u001b[1;32m---> 18\u001b[1;33m \u001b[0mprint\u001b[0m\u001b[1;33m(\u001b[0m\u001b[0mcount_vowels\u001b[0m\u001b[1;33m(\u001b[0m\u001b[1;34m'apple'\u001b[0m\u001b[1;33m)\u001b[0m\u001b[1;33m)\u001b[0m\u001b[1;33m\u001b[0m\u001b[1;33m\u001b[0m\u001b[0m\n\u001b[0m",
      "\u001b[1;32m<ipython-input-3-b9cae3fa5ea9>\u001b[0m in \u001b[0;36mcount_vowels\u001b[1;34m(words)\u001b[0m\n\u001b[0;32m      7\u001b[0m        \u001b[1;31m# if (char =='a') or (char = 'e'):\u001b[0m\u001b[1;33m\u001b[0m\u001b[1;33m\u001b[0m\u001b[1;33m\u001b[0m\u001b[0m\n\u001b[0;32m      8\u001b[0m        \u001b[1;31m#     result +1\u001b[0m\u001b[1;33m\u001b[0m\u001b[1;33m\u001b[0m\u001b[1;33m\u001b[0m\u001b[0m\n\u001b[1;32m----> 9\u001b[1;33m     \u001b[1;32mreturn\u001b[0m \u001b[0mresult\u001b[0m\u001b[1;33m\u001b[0m\u001b[1;33m\u001b[0m\u001b[0m\n\u001b[0m\u001b[0;32m     10\u001b[0m \u001b[1;33m\u001b[0m\u001b[0m\n\u001b[0;32m     11\u001b[0m \u001b[1;31m# aeiou를 각각을 문장에서 세서 result += 한다\u001b[0m\u001b[1;33m\u001b[0m\u001b[1;33m\u001b[0m\u001b[1;33m\u001b[0m\u001b[0m\n",
      "\u001b[1;31mUnboundLocalError\u001b[0m: local variable 'result' referenced before assignment"
     ]
    }
   ],
   "source": [
    "def count_vowels(words): ##   강사님 version \n",
    "  #  result = 0\n",
    "  #  vowels = 'aeiou'\n",
    "  #  for char in words:\n",
    "  #      if char in vowels:\n",
    "  #          result +1\n",
    "       # if (char =='a') or (char = 'e'):\n",
    "       #     result +1\n",
    "    return result\n",
    "\n",
    "# aeiou를 각각을 문장에서 세서 result += 한다\n",
    "    result = 0\n",
    "    vowels = 'aeiou'\n",
    "    for vowel in vowels:\n",
    "        result += words.count(vowel)\n",
    "    return result\n",
    "\n",
    "print(count_vowels('apple'))"
   ]
  },
  {
   "cell_type": "code",
   "execution_count": 4,
   "metadata": {
    "scrolled": true
   },
   "outputs": [
    {
     "ename": "IndentationError",
     "evalue": "unexpected indent (<ipython-input-4-a8d836955308>, line 10)",
     "output_type": "error",
     "traceback": [
      "\u001b[1;36m  File \u001b[1;32m\"<ipython-input-4-a8d836955308>\"\u001b[1;36m, line \u001b[1;32m10\u001b[0m\n\u001b[1;33m    85.5\u001b[0m\n\u001b[1;37m    ^\u001b[0m\n\u001b[1;31mIndentationError\u001b[0m\u001b[1;31m:\u001b[0m unexpected indent\n"
     ]
    }
   ],
   "source": [
    "def get_dict_avg(dict):\n",
    "    total = 0\n",
    "    for key in dict:   # items 활용해보자\n",
    "# 딕셔너리의 모든 값을 보고 평균을 구한다.  딕셔너리 for문을 돌릴 수 있다.\n",
    "        total += dict[key]\n",
    "    return total/len(dict)\n",
    "\n",
    "result = {'python':80, 'algorithm':90, 'django': 89, 'web':83}\n",
    "get_dict_avg(result)\n",
    " 85.5"
   ]
  },
  {
   "cell_type": "code",
   "execution_count": 6,
   "metadata": {},
   "outputs": [
    {
     "name": "stdout",
     "output_type": "stream",
     "text": [
      "['A', 'B', 'B', 'A', 'AB', 'O', 'O', 'O', 'O']\n",
      "A,B,B,A,AB,O,O,O,O\n"
     ]
    }
   ],
   "source": [
    "#def count_blood(list): ## 리스트를 사전화하는 방법\n",
    "#   result = {}   ## 빈 사전 만든다.\n",
    "#    keys = ['A','B','O','AB']   # keys값을 리스트화\n",
    "#    for key in keys:   # 혈액형 각각의 개수를 빈사전에 넣는다!\n",
    "#        result[key] = list.count(key)\n",
    "#    return result\n",
    "# 블러드에 있는 블러드들을 보고 딕셔너리에다가 이미 있으면 value +=1 . 없으면\n",
    "# 없으면 ? value = 1\n",
    "def count_blood(bloods):\n",
    "    blood_types = {}\n",
    "    for blood in bloods:\n",
    "        if blood in blood_types:\n",
    "            blood_types[blood] +=1\n",
    "        else :\n",
    "            blood_types[blood] = 1\n",
    "    return blood_types\n",
    "bloods = 'A,B,B,A,AB,O,O,O,O'\n",
    "print(bloods.split(',')) # 스플릿을 하면 리스트화가 된다.\n",
    "print(bloods)"
   ]
  },
  {
   "cell_type": "code",
   "execution_count": 9,
   "metadata": {},
   "outputs": [
    {
     "name": "stdout",
     "output_type": "stream",
     "text": [
      "[1, 2, 5, 4, 5]\n",
      "[1, 2, 5, 4, 5]\n"
     ]
    }
   ],
   "source": [
    "a= [1,2,3,4,5]\n",
    "b=a\n",
    "a[2] = 5\n",
    "print(a)\n",
    "print(b)\n",
    "for char in chars:\n",
    "        if chars.count(char) >= 2:\n",
    "            result.append(char)"
   ]
  },
  {
   "cell_type": "code",
   "execution_count": 20,
   "metadata": {},
   "outputs": [
    {
     "name": "stdout",
     "output_type": "stream",
     "text": [
      "[]\n",
      "[]\n"
     ]
    }
   ],
   "source": [
    "#workshop 2\n",
    "def duplicated_letters(chars):\n",
    "    result = []\n",
    "    check = [False for x in range(len(chars))]\n",
    "    #print(check)\n",
    "    for i in range(0,len(chars)):\n",
    "        if check[i]:\n",
    "            continue\n",
    "        #  count를 센다.\n",
    "        # 중복되는 애들은 result에 추가\n",
    "        # 중복되는 걔들을 다 check배열의 해당위치값을 True로 다바꾼다.\n",
    "    return result\n",
    "print(duplicated_letters('apple'))\n",
    "print(duplicated_letters('banana'))"
   ]
  },
  {
   "cell_type": "code",
   "execution_count": 25,
   "metadata": {},
   "outputs": [
    {
     "name": "stdout",
     "output_type": "stream",
     "text": [
      "['p']\n"
     ]
    }
   ],
   "source": [
    "def duplicated_letters(words):\n",
    "    # 중복된 문자를 담을 공간 필요[]\n",
    "    # words에서 char 몇번등장?\n",
    "    #[].append()\n",
    "    duplicated = []\n",
    "    for char in words:\n",
    "        if (words.count(char) > 1) and (char not in duplicated):\n",
    "            duplicated.append(char)\n",
    "    return duplicated\n",
    "print(duplicated_letters('apple')) ## pp가 나온다  해결은?? and (char not in duplicated):\n",
    "       "
   ]
  },
  {
   "cell_type": "code",
   "execution_count": 30,
   "metadata": {},
   "outputs": [
    {
     "name": "stdout",
     "output_type": "stream",
     "text": [
      "['p']\n"
     ]
    }
   ],
   "source": [
    "# set 활용안!!\n",
    "#workshop 2\n",
    "def duplicated_letters(words):\n",
    "    # 중복된 문자를 담을 공간 필요[]\n",
    "    # words에서 char 몇번등장?\n",
    "    #[].append()\n",
    "    duplicated = set()\n",
    "    for char in words:\n",
    "        if (words.count(char) > 1) and (char not in duplicated):\n",
    "            duplicated.add(char) #\n",
    "    return list(duplicated)\n",
    "print(duplicated_letters('apple')) ## pp가 나온다  해결은?? and (char not in duplicated):\n",
    "       "
   ]
  },
  {
   "cell_type": "code",
   "execution_count": 33,
   "metadata": {},
   "outputs": [
    {
     "name": "stdout",
     "output_type": "stream",
     "text": [
      "['p']\n"
     ]
    }
   ],
   "source": [
    "# comprehension version\n",
    "def duplicated_letters(words):\n",
    "    return list({char for char in words if words.count(char) > 1})\n",
    "print(duplicated_letters('apple'))"
   ]
  },
  {
   "cell_type": "code",
   "execution_count": 43,
   "metadata": {},
   "outputs": [
    {
     "data": {
      "text/plain": [
       "'aPpLe'"
      ]
     },
     "execution_count": 43,
     "metadata": {},
     "output_type": "execute_result"
    }
   ],
   "source": [
    "# words를 돌면서 직접수정은 불가능하기 때문에, 빈문자열을 두고 계속해서 더해가는 방식\n",
    "# ''+a +p +a  +e  방식으로!!\n",
    "#workshop 2\n",
    "def low_and_up(words):\n",
    "    result = ''\n",
    "    for idx, char in enumerate(words):\n",
    "        if idx %2 ==0:\n",
    "            result += char.lower()\n",
    "        else:\n",
    "            result += char.upper()\n",
    "    return result\n",
    "low_and_up('apple')"
   ]
  },
  {
   "cell_type": "code",
   "execution_count": 44,
   "metadata": {},
   "outputs": [
    {
     "data": {
      "text/plain": [
       "'aPpLe'"
      ]
     },
     "execution_count": 44,
     "metadata": {},
     "output_type": "execute_result"
    }
   ],
   "source": [
    "def low_and_up(words):\n",
    "    result = [char.upper() if idx % 2 ==1 else char.lower() for idx, char in enumerate(words)]\n",
    "    return ''.join(result)\n",
    "low_and_up('apple')"
   ]
  },
  {
   "cell_type": "code",
   "execution_count": 48,
   "metadata": {},
   "outputs": [
    {
     "name": "stdout",
     "output_type": "stream",
     "text": [
      "[1, 2, 3, 0, 1, 2, 3]\n"
     ]
    }
   ],
   "source": [
    "#0728 workshop #3\n",
    "# 이전을 기억! , for 확인, 지금 보고있는 숫자가 이전에 어떤 숫자가 ?\n",
    "# 결과를 적을 리스트\n",
    "def lonely(numbers):\n",
    "    results = []\n",
    "    prev_num = -1\n",
    "    \n",
    "    for number in numbers:\n",
    "        if prev_num != number:\n",
    "            results.append(number)\n",
    "            prev_num = number\n",
    "    return results\n",
    "print(lonely([1,1,2,2,3,3,0,1,2,3]))"
   ]
  },
  {
   "cell_type": "code",
   "execution_count": null,
   "metadata": {},
   "outputs": [],
   "source": [
    "a, b = input().split()\n",
    "if  a > b:\n",
    "    if a == '3' and b == '1':\n",
    "        print('B')\n",
    "    else:\n",
    "        print('A')\n",
    "elif a < b:\n",
    "    if a == '1' and b == '3':\n",
    "        print('A')\n",
    "    else:\n",
    "        print('B')"
   ]
  }
 ],
 "metadata": {
  "kernelspec": {
   "display_name": "Python 3",
   "language": "python",
   "name": "python3"
  },
  "language_info": {
   "codemirror_mode": {
    "name": "ipython",
    "version": 3
   },
   "file_extension": ".py",
   "mimetype": "text/x-python",
   "name": "python",
   "nbconvert_exporter": "python",
   "pygments_lexer": "ipython3",
   "version": "3.7.7"
  }
 },
 "nbformat": 4,
 "nbformat_minor": 4
}
