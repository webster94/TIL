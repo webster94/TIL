{
 "cells": [
  {
   "cell_type": "markdown",
   "metadata": {},
   "source": [
    "## Q0. 가장 짧은 단어 찾기\n",
    "\n",
    "주어진 리스트 내에 주어진 단어들 중에서 길이가 가장 짧은 단어를 찾아 해당 단어를 찾으시오.\n",
    "\n",
    "동일한 길이의 단어가 2개 이상 존재하지 않는다고 가정합니다.\n",
    "\n",
    "---\n",
    "\n",
    "**[입력 예시]**\n",
    "\n",
    "```python\n",
    "words = [\"tiger\", \"cat\", \"lion\", \"mouse\"]\n",
    "```\n",
    "\n",
    "**[출력 예시]**\n",
    "\n",
    "`cat`"
   ]
  },
  {
   "cell_type": "code",
   "execution_count": 28,
   "metadata": {},
   "outputs": [
    {
     "name": "stdout",
     "output_type": "stream",
     "text": [
      "cat\n"
     ]
    }
   ],
   "source": [
    "words = [\"tiger\", \"cat\", \"lion\", \"mouse\"]\n",
    "\n",
    "# 아래에 코드를 작성하시오.\n",
    "length = words[0]\n",
    "for i in words:\n",
    "    if  len(length) > len(i):\n",
    "        length = i\n",
    "print(length)\n",
    "\n"
   ]
  },
  {
   "cell_type": "markdown",
   "metadata": {},
   "source": [
    "## Q1. 가장 짧은 단어 찾기 with function\n",
    "\n",
    "위에서 만든 가장 짧은 단어를 찾는 로직을 함수로 변경한 뒤 호출하여 사용하시오.\n",
    "\n",
    "```python\n",
    "def short(words):\n",
    "    pass\n",
    "\n",
    "print(short([\"tiger\", \"cat\", \"lion\", \"mouse\"]))\n",
    "#=> 'cat'\n",
    "\n",
    "```"
   ]
  },
  {
   "cell_type": "code",
   "execution_count": 37,
   "metadata": {},
   "outputs": [],
   "source": [
    "def short(words):\n",
    "    length = words[0]\n",
    "    for i in words:\n",
    "        if  len(length) > len(i):\n",
    "            length = i\n",
    "    return length"
   ]
  },
  {
   "cell_type": "code",
   "execution_count": 38,
   "metadata": {},
   "outputs": [
    {
     "name": "stdout",
     "output_type": "stream",
     "text": [
      "cat\n"
     ]
    }
   ],
   "source": [
    "print(short([\"tiger\", \"cat\", \"lion\", \"mouse\"]))"
   ]
  },
  {
   "cell_type": "markdown",
   "metadata": {},
   "source": [
    "## Q2. 유 중위의 저녁점호\n",
    "\n",
    "집에서 에어컨 틀고 쉬고 싶은 8월의 어느 월요일, 유 중위는 대대의 당직사령으로서 대한민국의 밤을 안전하게 지키는 임무를 부여 받았다. 소싯적 프로그래밍을 배운 경험이 있는 유 중위는 간단한 프로그램을 작성하여 저녁 점호 절차를 간소화하려고 한다.\n",
    "\n",
    "당직사령은 저녁 점호 결과를 취합 및 확인하여 이상 유무를 상급부대에 보고해야 한다. 따라서 저녁 점호를 받은 생활관 별 인원을 모두 더한  **현재 인원**을 파악하고, 이 값을 정상적으로 있어야 하는 인원 수인 **정상 총원**과 비교한 뒤 일치하면 '**이상없음**', 일치하지 않으면 '**문제발생**' **문자열을 반환**하는 프로그램을 작성하시오.\n",
    "\n",
    "* 반환해야 하는 자세한 문자열 형태는 다음과 같다.\n",
    "  * 일치하는 경우 : `이상없음`\n",
    "  * 현재 인원이 적은 경우 : `문제발생(O명 적음)`\n",
    "  * 현재 인원이 많은 경우 : `문제발생(O명 많음)`\n",
    "\n",
    "---\n",
    "\n",
    "**[입력 예시]**\n",
    "\n",
    "현재 생활관 별 인원이 적힌 배열 `squad_rooms`, 정상 총원을 의미하는 정수 `total`이 주어진다.\n",
    "\n",
    "* 아무도 없는 생활관은 하이픈(`-`)으로 표시된다.\n",
    "\n",
    "```python\n",
    "squad_rooms = [\n",
    "    [8, 5, 7, 2, 5],\n",
    "    [2, 3, 7, 8, 1],\n",
    "    [3, 5, 5, 4, 3],\n",
    "    [5, 6, 8, 1, 4],\n",
    "]\n",
    "\n",
    "total = 92\n",
    "```\n",
    "\n",
    "**[출력 예시]**\n",
    "\n",
    "`문제발생(1명 적음)`"
   ]
  },
  {
   "cell_type": "code",
   "execution_count": 43,
   "metadata": {},
   "outputs": [],
   "source": [
    "def sum_soldiers(squad_rooms, total):\n",
    "    compute = []\n",
    "    result = 0\n",
    "    for i in range(len(squad_rooms)):\n",
    "        for j in range(len(squad_rooms[0])):\n",
    "            if type(squad_rooms[i][j]) == int:\n",
    "                result += squad_rooms[i][j]\n",
    "            # if type(squad_rooms[i]) == int\n",
    "            # if isinstance(squad_rooms[i][j], int)\n",
    "    if result == total:\n",
    "        return '이상없음'\n",
    "    elif result > total:\n",
    "        return f'문제발생 {result-total} 명 많음'\n",
    "    else:\n",
    "        return f'문제발생 {total-result} 명 적음'"
   ]
  },
  {
   "cell_type": "code",
   "execution_count": 44,
   "metadata": {},
   "outputs": [
    {
     "name": "stdout",
     "output_type": "stream",
     "text": [
      "이상없음\n"
     ]
    }
   ],
   "source": [
    "print(sum_soldiers(\n",
    "    [\n",
    "        [8, 5, 7, 3, 5],\n",
    "        [2, 3, 7, 8, 1],\n",
    "        [3, 5, 5, 4, 1],\n",
    "        [5, 6, 8, 1, 2],\n",
    "    ],\n",
    "    89)\n",
    ")\n",
    "#=> 이상없음"
   ]
  },
  {
   "cell_type": "code",
   "execution_count": 46,
   "metadata": {},
   "outputs": [
    {
     "name": "stdout",
     "output_type": "stream",
     "text": [
      "문재발생 2 명 적음\n"
     ]
    }
   ],
   "source": [
    "print(sum_soldiers(\n",
    "    [\n",
    "        [6, 5, 7, 3, 5, 3, 1, 7, 9],\n",
    "        [5, '-', 4, 2, 3, 7, 8, 1, 3],\n",
    "        [3, 9, 1, 5, 3, 9, 4, 2, 6],\n",
    "        [7, 8, 1, 4, 1, 5, 3, 1, 3],\n",
    "        [3, 5, 5, 4, '-', 5, 3, 1, 3],\n",
    "        [5, 5, 4, 2, 3, 7, 8, 1, 3],\n",
    "        [1, 5, 3, 4, 1, 5, 3, 1, 3],\n",
    "        [4, 5, 7, 3, '-', 3, 1, 7, 9],\n",
    "    ],\n",
    "    288)\n",
    ")\n",
    "#=> 문제발생(2명 적음)"
   ]
  },
  {
   "cell_type": "markdown",
   "metadata": {},
   "source": [
    "## Q3. 혈액형 카운트\n",
    "\n",
    "_Rh 식 혈액형은 사람의 혈액형 중 하나로서, ABO 식 혈액형 다음으로 중요한 혈액형으로 취급하고 있습니다. Rh 식 혈액형은 Rh+ 형과 Rh- 형으로 나누는데, 이 중 Rh+ 형이 대다수를 차지하며 전세계적으로 85% 정도가 Rh+ 형이고 나머지 15% 가량이 Rh- 형이라고 합니다._\n",
    "\n",
    "입력으로 주어지는 데이터는 ABO 식 혈액형과 Rh 식 혈액형을 조합하여 표현한 문자열들로 이루어진 리스트입니다. 예를 들어, ABO 식으로는 A 형이면서 Rh+ 형인 사람의 혈액형은 `A+` 로 표현되는 방식입니다. 이러한 입력 데이터로부터, ABO 식 각 혈액형의 사람 수와 Rh 식 각 혈액형의 사람 수를 각각 집계하여 사전으로 반환하는 함수 `bloodtype()` 을 완성하세요. 딕셔너리를 이용할 때에는 키 (key) 의 유무에 주의하여 코드를 작성해야 합니다.\n",
    "\n",
    "한 사람도 가지지 않는 혈액형에 대해서는 그 내용을 딕셔너리에 포함하지 않습니다. 즉, 값 (value) 이 0 인 키 (key) 는 담지 않습니다.\n",
    "\n",
    "```python\n",
    "def bloodtype(bloods):\n",
    "    pass\n",
    "\n",
    "print(bloodtype(['A+', 'B+', 'A-', 'O-', 'AB+', 'AB-']))\n",
    "#=> {'A': 2, '+': 3, 'B': 1, '-': 3, 'O': 1, 'AB': 2}\n",
    "```"
   ]
  },
  {
   "cell_type": "code",
   "execution_count": 52,
   "metadata": {},
   "outputs": [],
   "source": [
    "def bloodtype(bloods):\n",
    "    bloodtype_dict = {}\n",
    "    for blood in bloods:\n",
    "        if blood in bloods:\n",
    "             bloodtype_dict[blood] +=1\n",
    "        else:\n",
    "            bloodtype_dict[blood] == 0\n",
    "                \n",
    "        "
   ]
  },
  {
   "cell_type": "code",
   "execution_count": 56,
   "metadata": {},
   "outputs": [
    {
     "name": "stdout",
     "output_type": "stream",
     "text": [
      "{'+': 1}\n",
      "{'+': 2}\n",
      "{'+': 2, '-': 1}\n",
      "{'+': 2, '-': 2}\n",
      "{'+': 3, '-': 2}\n",
      "{'+': 3, '-': 3}\n",
      "None\n"
     ]
    }
   ],
   "source": [
    "print(bloodtype(['A+', 'B+', 'A-', 'O-', 'AB+', 'AB-']))"
   ]
  },
  {
   "cell_type": "code",
   "execution_count": 61,
   "metadata": {},
   "outputs": [],
   "source": [
    "def bloodtype(bloods):\n",
    "    result = {}\n",
    "    rh_type = ['-', '+']\n",
    "    abo_type = ['A','B','AB','O']\n",
    "    \n",
    "    for blood in bloods:\n",
    "        if blood[-1] in rh_type:\n",
    "            if blood[-1] in result:\n",
    "                result[blood[-1]] +=1\n",
    "            else:\n",
    "                result[blood[-1]] = 1\n",
    "        if blood[:-1] in abo_type:\n",
    "            if blood[:-1] in result:\n",
    "                result[blood[:-1]] +=1\n",
    "            else:\n",
    "                result[blood[:-1]] = 1\n",
    "    return result"
   ]
  },
  {
   "cell_type": "code",
   "execution_count": 66,
   "metadata": {},
   "outputs": [
    {
     "ename": "TypeError",
     "evalue": "string indices must be integers",
     "output_type": "error",
     "traceback": [
      "\u001b[1;31m---------------------------------------------------------------------------\u001b[0m",
      "\u001b[1;31mTypeError\u001b[0m                                 Traceback (most recent call last)",
      "\u001b[1;32m<ipython-input-66-2a864bd1505d>\u001b[0m in \u001b[0;36m<module>\u001b[1;34m\u001b[0m\n\u001b[1;32m----> 1\u001b[1;33m \u001b[0mprint\u001b[0m\u001b[1;33m(\u001b[0m\u001b[0mbloodtype\u001b[0m\u001b[1;33m(\u001b[0m\u001b[1;33m[\u001b[0m\u001b[1;34m'A+'\u001b[0m\u001b[1;33m,\u001b[0m \u001b[1;34m'B+'\u001b[0m\u001b[1;33m,\u001b[0m \u001b[1;34m'A-'\u001b[0m\u001b[1;33m,\u001b[0m \u001b[1;34m'O-'\u001b[0m\u001b[1;33m,\u001b[0m \u001b[1;34m'AB+'\u001b[0m\u001b[1;33m,\u001b[0m \u001b[1;34m'AB-'\u001b[0m\u001b[1;33m]\u001b[0m\u001b[1;33m)\u001b[0m\u001b[1;33m)\u001b[0m\u001b[1;33m\u001b[0m\u001b[1;33m\u001b[0m\u001b[0m\n\u001b[0m",
      "\u001b[1;32m<ipython-input-65-3e0551ff7413>\u001b[0m in \u001b[0;36mbloodtype\u001b[1;34m(bloods)\u001b[0m\n\u001b[0;32m      3\u001b[0m     \u001b[1;32mfor\u001b[0m \u001b[0mblood\u001b[0m \u001b[1;32min\u001b[0m \u001b[0mbloods\u001b[0m\u001b[1;33m:\u001b[0m\u001b[1;33m\u001b[0m\u001b[1;33m\u001b[0m\u001b[0m\n\u001b[0;32m      4\u001b[0m         \u001b[0mresult\u001b[0m\u001b[1;33m[\u001b[0m\u001b[0mblood\u001b[0m\u001b[1;33m[\u001b[0m\u001b[1;33m-\u001b[0m\u001b[1;36m1\u001b[0m\u001b[1;33m]\u001b[0m\u001b[1;33m]\u001b[0m \u001b[1;33m=\u001b[0m \u001b[0mresult\u001b[0m\u001b[1;33m.\u001b[0m\u001b[0mget\u001b[0m\u001b[1;33m(\u001b[0m\u001b[0mblood\u001b[0m\u001b[1;33m[\u001b[0m\u001b[1;33m-\u001b[0m\u001b[1;36m1\u001b[0m\u001b[1;33m]\u001b[0m\u001b[1;33m,\u001b[0m\u001b[1;36m0\u001b[0m\u001b[1;33m)\u001b[0m \u001b[1;33m+\u001b[0m\u001b[1;36m1\u001b[0m\u001b[1;33m\u001b[0m\u001b[1;33m\u001b[0m\u001b[0m\n\u001b[1;32m----> 5\u001b[1;33m         \u001b[0mresult\u001b[0m\u001b[1;33m[\u001b[0m\u001b[0mblood\u001b[0m\u001b[1;33m[\u001b[0m\u001b[1;33m:\u001b[0m\u001b[1;33m-\u001b[0m\u001b[1;36m1\u001b[0m\u001b[1;33m]\u001b[0m\u001b[1;33m]\u001b[0m \u001b[1;33m=\u001b[0m \u001b[0mresult\u001b[0m\u001b[1;33m.\u001b[0m\u001b[0mget\u001b[0m\u001b[1;33m(\u001b[0m\u001b[0mblood\u001b[0m\u001b[1;33m[\u001b[0m\u001b[1;33m:\u001b[0m\u001b[1;33m-\u001b[0m\u001b[1;36m1\u001b[0m\u001b[1;33m,\u001b[0m\u001b[1;36m0\u001b[0m\u001b[1;33m]\u001b[0m\u001b[1;33m)\u001b[0m \u001b[1;33m+\u001b[0m\u001b[1;36m1\u001b[0m\u001b[1;33m\u001b[0m\u001b[1;33m\u001b[0m\u001b[0m\n\u001b[0m\u001b[0;32m      6\u001b[0m     \u001b[1;32mreturn\u001b[0m \u001b[0mresult\u001b[0m\u001b[1;33m\u001b[0m\u001b[1;33m\u001b[0m\u001b[0m\n\u001b[0;32m      7\u001b[0m \u001b[1;33m\u001b[0m\u001b[0m\n",
      "\u001b[1;31mTypeError\u001b[0m: string indices must be integers"
     ]
    }
   ],
   "source": [
    "print(bloodtype(['A+', 'B+', 'A-', 'O-', 'AB+', 'AB-']))"
   ]
  },
  {
   "cell_type": "code",
   "execution_count": 65,
   "metadata": {},
   "outputs": [],
   "source": [
    "def bloodtype(bloods):\n",
    "    result = {}\n",
    "    for blood in bloods:\n",
    "        result[blood[-1]] = result.get(blood[-1],0) +1\n",
    "        result[blood[:-1]] = result.get(blood[:-1,0]) +1\n",
    "    return result\n",
    "        "
   ]
  },
  {
   "cell_type": "code",
   "execution_count": null,
   "metadata": {},
   "outputs": [],
   "source": []
  }
 ],
 "metadata": {
  "kernelspec": {
   "display_name": "Python 3",
   "language": "python",
   "name": "python3"
  },
  "language_info": {
   "codemirror_mode": {
    "name": "ipython",
    "version": 3
   },
   "file_extension": ".py",
   "mimetype": "text/x-python",
   "name": "python",
   "nbconvert_exporter": "python",
   "pygments_lexer": "ipython3",
   "version": "3.7.7"
  }
 },
 "nbformat": 4,
 "nbformat_minor": 2
}
