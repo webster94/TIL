{
 "cells": [
  {
   "cell_type": "markdown",
   "metadata": {},
   "source": [
    "# Practice 2\n",
    "\n",
    "> 자료 구조 "
   ]
  },
  {
   "cell_type": "markdown",
   "metadata": {},
   "source": [
    "## 중복되지 않은 숫자의 합\n",
    "\n",
    "> 같은 숫자가 한개 있거나 두개가 들어있는 리스트가 주어진다. 이러한 리스트에서 숫자가 한개만 있는 요소들의 합을 구하는 함수 `sum_of_repeat_number()`를 작성하시오.\n",
    ">\n",
    "> 예를 들어, `[4, 5, 7, 5, 4, 8]`는 7과 8이 한번만 나오기 때문에 두개를 더한 15가 결과값으로 도출된다.\n",
    "\n",
    "---\n",
    "\n",
    "예시)\n",
    "\n",
    "```python\n",
    "sum_of_repeat_number([4, 4, 7, 8, 10]) # => 25\n",
    "```\n"
   ]
  },
  {
   "cell_type": "code",
   "execution_count": 1,
   "metadata": {},
   "outputs": [],
   "source": [
    "def sum_of_repeat_number(numbers):\n",
    "    total = 0\n",
    "    for number in numbers:\n",
    "        if numbers.count(number) == 1:\n",
    "            total += number\n",
    "    return total"
   ]
  },
  {
   "cell_type": "code",
   "execution_count": 119,
   "metadata": {},
   "outputs": [
    {
     "name": "stdout",
     "output_type": "stream",
     "text": [
      "25\n",
      "15\n"
     ]
    }
   ],
   "source": [
    "# 해당 코드를 통해 올바른 결과가 나오는지 확인하시오.\n",
    "print(sum_of_repeat_number([4, 4, 7, 8, 10]))\n",
    "print(sum_of_repeat_number([4, 5, 7, 5, 4, 8]))"
   ]
  },
  {
   "cell_type": "code",
   "execution_count": 122,
   "metadata": {},
   "outputs": [
    {
     "name": "stdout",
     "output_type": "stream",
     "text": [
      "4\n"
     ]
    }
   ],
   "source": [
    "def sum_of_repeat_number(numbers):\n",
    "    #아직 한번만 등장한 것들[]\n",
    "    #반복문 돌면서 number in 한번만 등장한 것들? 삭제\n",
    "    # 없다? 추가.\n",
    "    once = []\n",
    "    for number in numbers:\n",
    "        if number in once:\n",
    "            once.remove(number)\n",
    "        else:\n",
    "            once.append(number)\n",
    "        return sum(once)\n",
    "print(sum_of_repeat_number([4, 5, 7, 8, 10]))"
   ]
  },
  {
   "cell_type": "markdown",
   "metadata": {},
   "source": [
    "## 썩은 과일 찾기\n",
    "\n",
    "> 과수원에 농부 한명이 썩은 과일이 몇개 들어있는 과일 봉지를 가지고 있다. (과일 봉지는 리스트를 의미한다.)\n",
    ">\n",
    "> 썩은 과일 조각들을 모두 신선한 것으로 교체하는 함수 `change_rotten_fruit()`를 작성하시오. \n",
    ">\n",
    "> 예를 들어,\n",
    "- `['apple', 'rottenBanana', 'apple']` 이라는 리스트가 주어진 경우, 대체된 리스트는 `['apple', 'banana', 'apple']` 이어야 한다. \n",
    ">\n",
    ">\n",
    "> **유의**\n",
    "- 만약 리스트가 null/nil/None이거나 비어 있는 경우 빈 리스트를 반환한다.\n",
    "- 반환된 리스트의 요소는 모두 소문자여야 한다.\n",
    "\n",
    "---\n",
    "\n",
    "예시)\n",
    "\n",
    "```python\n",
    "change_rotten_fruit(['apple', 'rottenBanana', 'apple']) \n",
    "#=> ['apple', 'banana', 'apple']\n",
    "\n",
    "change_rotten_fruit(['rottenapple', 'rottenBanana', 'apple', 'rottenGrape']) \n",
    "#=> ['apple', 'banana', 'apple', 'grape']\n",
    "```"
   ]
  },
  {
   "cell_type": "code",
   "execution_count": 113,
   "metadata": {},
   "outputs": [],
   "source": [
    "def change_rotten_fruit(fruit_bag):\n",
    "    result = [] # 반복문에서 하나씩 추가어캐하냐 ... ㅎㅎㅎ\n",
    "    for fruit in fruit_bag: # (replace는 리스트화해서 사용, remove는 )\n",
    "        result1 = fruit.lower()\n",
    "        # str 제거하는 법은 replace 모르겠다!!  , 왜 중복이되지?\n",
    "        result1=result1.replace('rotten','') # 중복이 아니었다 . 반복문법에서의 결과의 끝만 보여줬을 뿐!\n",
    "        result.append(result1)  # append를 사용해서 결과값에 추가하였다. 새로운 변수에 다가 넣다가 값이 나오지않아 고배를 마셨는데\n",
    "    return result  # list제거하는 법은 remove!!!fruit.replace('rotten','')    #  append 이기 때문에 (append 는 return을 하지않는다)\n",
    "# 그래서였다 ㅎㅎ 그래서 어팬드는 넣고자 하는 변수에 . 을 찍고 넣고자하는 값을 넣으면 출력이 되는 것이었다.!!"
   ]
  },
  {
   "cell_type": "code",
   "execution_count": 115,
   "metadata": {},
   "outputs": [
    {
     "name": "stdout",
     "output_type": "stream",
     "text": [
      "['apple', 'banana', 'apple']\n",
      "['apple', 'banana', 'apple', 'grape']\n"
     ]
    }
   ],
   "source": [
    "# 해당 코드를 통해 올바른 결과가 나오는지 확인하시오.\n",
    "print(change_rotten_fruit(['apple','rottenBanana','apple'] ))\n",
    "print(change_rotten_fruit(['rottenapple','rottenBanana', 'apple', 'rottenGrape']))"
   ]
  },
  {
   "cell_type": "code",
   "execution_count": 123,
   "metadata": {},
   "outputs": [
    {
     "name": "stdout",
     "output_type": "stream",
     "text": [
      "['apple', 'banana', 'apple']\n",
      "['apple', 'banana', 'apple', 'grape']\n"
     ]
    }
   ],
   "source": [
    "def change_rotten_fruit(fruit_bag):\n",
    "    result = []\n",
    "    for fruit in fruit_bag:\n",
    "        result1 = fruit.lower()\n",
    "        result2 = result1.replace('rotten','')\n",
    "        result.append(result2)\n",
    "    return result\n",
    "\n",
    "print(change_rotten_fruit(['apple','rottenBanana','apple'] ))\n",
    "print(change_rotten_fruit(['rottenapple','rottenBanana', 'apple', 'rottenGrape']))"
   ]
  },
  {
   "cell_type": "code",
   "execution_count": 126,
   "metadata": {},
   "outputs": [
    {
     "name": "stdout",
     "output_type": "stream",
     "text": [
      "Banana\n",
      "['apple', 'rottenBanana', 'apple']\n",
      "apple\n",
      "Banana\n",
      "Grape\n",
      "['rottenapple', 'rottenBanana', 'apple', 'rottenGrape']\n"
     ]
    }
   ],
   "source": [
    "#과일바구니에 담긴 과일 만약에 썩었으면? 새 과일로 교체 - 새 바구니\n",
    "#안썩었으면? 새바구니\n",
    "#리턴 새바구니\n",
    "def change_rotten_fruit(fruit_bag):\n",
    "    new_fruit_bag = []\n",
    "    for fruit in fruit_bag:\n",
    "        if 'rotten' in fruit:\n",
    "            new_fruit = fruit.replace('rotten','')\n",
    "            print(new_fruit)### 문제가있다. str이기때문에 지정을해줘야한다\n",
    "            new_fruit = new_fruit.lower()\n",
    "            new_fruit_bag.append(fruit)\n",
    "        else:\n",
    "            new_fruit_bag.append(fruit)\n",
    "    return new_fruit_bag\n",
    "print(change_rotten_fruit(['apple','rottenBanana','apple'] ))\n",
    "print(change_rotten_fruit(['rottenapple','rottenBanana', 'apple', 'rottenGrape']))"
   ]
  }
 ],
 "metadata": {
  "kernelspec": {
   "display_name": "Python 3",
   "language": "python",
   "name": "python3"
  },
  "language_info": {
   "codemirror_mode": {
    "name": "ipython",
    "version": 3
   },
   "file_extension": ".py",
   "mimetype": "text/x-python",
   "name": "python",
   "nbconvert_exporter": "python",
   "pygments_lexer": "ipython3",
   "version": "3.7.7"
  },
  "toc": {
   "base_numbering": 1,
   "nav_menu": {},
   "number_sections": true,
   "sideBar": true,
   "skip_h1_title": false,
   "title_cell": "Table of Contents",
   "title_sidebar": "Contents",
   "toc_cell": false,
   "toc_position": {},
   "toc_section_display": true,
   "toc_window_display": false
  }
 },
 "nbformat": 4,
 "nbformat_minor": 4
}
